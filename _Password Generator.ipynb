{
 "cells": [
  {
   "cell_type": "code",
   "execution_count": 34,
   "metadata": {},
   "outputs": [
    {
     "name": "stdout",
     "output_type": "stream",
     "text": [
      "Hello, here is a password generator. \n",
      "Choose the length of your characters:\n",
      "How many letters you want? 8\n",
      "How many symbols you want? 2\n",
      "How many numbers you want? 4\n",
      "`icS89X8VJo]7X\n"
     ]
    }
   ],
   "source": [
    "import random\n",
    "import string\n",
    "import secrets\n",
    "\n",
    "length = 6\n",
    "\n",
    "\n",
    "# This variable includes numbers\n",
    "numbers= \"1234567890\"\n",
    "\n",
    "# This variable includes uppercase and lowercase letters\n",
    "letters = \"abcdefghijklmnopqrstuvwxyzABCDEFGHIJKLMNOPQRSTUVWXYZ\"\n",
    "\n",
    "# This variable includes symbols\n",
    "symbols = \"!#$%&'()*+, -./:;<=>?@[\\]^_`{|}~\"\n",
    "\n",
    "password = ''.join(secrets.choice(digits + letters + symbols) for t in range(20))\n",
    "def message():\n",
    "    print(\"Hello, here is a password generator. \")\n",
    "    print(\"Choose the length of your characters:\")\n",
    "    passGen()\n",
    "\n",
    "def passGen():\n",
    "    c = 0\n",
    "    alphabet = int(input(\"How many letters you want? \"))\n",
    "    spec = int(input(\"How many symbols you want? \"))\n",
    "    num = int(input(\"How many numbers you want? \"))\n",
    "    c += alphabet + num +spec\n",
    "    if c < length:\n",
    "        print('Your password is too short.')\n",
    "        passGen()\n",
    "    else:\n",
    "        new_password = \"\"\n",
    "        for i in range(alphabet):\n",
    "            new_password += random.choice(letters)\n",
    "        for x in range(spec):\n",
    "            new_password += random.choice(symbols)\n",
    "        for y in range(num):\n",
    "            new_password += random.choice(numbers)\n",
    "\n",
    "        pass_word = list(new_password)\n",
    "        shuff = random.shuffle(pass_word)\n",
    "        new_pass = \"\".join(pass_word)\n",
    "        password = secrets.token_urlsafe(7)\n",
    "        print(new_pass)\n",
    "\n",
    "message()"
   ]
  },
  {
   "cell_type": "code",
   "execution_count": null,
   "metadata": {},
   "outputs": [],
   "source": []
  }
 ],
 "metadata": {
  "kernelspec": {
   "display_name": "Python 3",
   "language": "python",
   "name": "python3"
  },
  "language_info": {
   "codemirror_mode": {
    "name": "ipython",
    "version": 3
   },
   "file_extension": ".py",
   "mimetype": "text/x-python",
   "name": "python",
   "nbconvert_exporter": "python",
   "pygments_lexer": "ipython3",
   "version": "3.7.6"
  }
 },
 "nbformat": 4,
 "nbformat_minor": 4
}
